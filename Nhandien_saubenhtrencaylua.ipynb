{
  "nbformat": 4,
  "nbformat_minor": 0,
  "metadata": {
    "colab": {
      "provenance": [],
      "mount_file_id": "1wDblP0VsyjLwuPlVc4yXEvbE82BBPHvx",
      "authorship_tag": "ABX9TyPnBYaVFR/fHir4v4//xmWy",
      "include_colab_link": true
    },
    "kernelspec": {
      "name": "python3",
      "display_name": "Python 3"
    },
    "language_info": {
      "name": "python"
    },
    "gpuClass": "standard",
    "accelerator": "GPU"
  },
  "cells": [
    {
      "cell_type": "markdown",
      "metadata": {
        "id": "view-in-github",
        "colab_type": "text"
      },
      "source": [
        "<a href=\"https://colab.research.google.com/github/AnhTuan1807/PROJECT/blob/main/Nhandien_saubenhtrencaylua.ipynb\" target=\"_parent\"><img src=\"https://colab.research.google.com/assets/colab-badge.svg\" alt=\"Open In Colab\"/></a>"
      ]
    },
    {
      "cell_type": "code",
      "execution_count": 1,
      "metadata": {
        "id": "uoTJ9Uhr3OFL"
      },
      "outputs": [],
      "source": [
        "#Khai bao cac thu vien can su dung\n",
        "from sklearn.model_selection import train_test_split\n",
        "import matplotlib.pyplot as plt\n",
        "import numpy as np\n",
        "import tensorflow as tf\n",
        "from keras.utils import np_utils\n",
        "from keras.models import Sequential\n",
        "from keras.layers import Dense, Activation, Dropout, Conv2D, MaxPooling2D, Flatten\n",
        "from tensorflow.keras.optimizers import SGD, RMSprop\n",
        "from keras.callbacks import EarlyStopping, ModelCheckpoint\n",
        "from sklearn.utils import validation \n",
        "from sklearn import preprocessing\n",
        "from tensorflow.keras.utils import to_categorical\n",
        "from tensorflow.keras.models import load_model\n",
        "from tensorflow.keras.utils import load_img, img_to_array\n",
        "from tensorflow.keras.preprocessing.image import ImageDataGenerator"
      ]
    },
    {
      "cell_type": "code",
      "source": [
        "#Ket noi voi google drive\n",
        "from google.colab import drive\n",
        "drive.mount('/content/drive')"
      ],
      "metadata": {
        "colab": {
          "base_uri": "https://localhost:8080/"
        },
        "id": "kkZYuYuF3WH3",
        "outputId": "dbc78465-ba86-47e3-a3d8-f883143746ac"
      },
      "execution_count": 8,
      "outputs": [
        {
          "output_type": "stream",
          "name": "stdout",
          "text": [
            "Drive already mounted at /content/drive; to attempt to forcibly remount, call drive.mount(\"/content/drive\", force_remount=True).\n"
          ]
        }
      ]
    },
    {
      "cell_type": "code",
      "source": [
        "# Tao ra class ImageDataGenerator de chinh sua anh \n",
        "train_datagen = ImageDataGenerator(rescale=1./255, shear_range=0.2, zoom_range=0.2, horizontal_flip=True)\n",
        "test_datagen = ImageDataGenerator(rescale=1./255)"
      ],
      "metadata": {
        "id": "h0KlqTMR3W0a"
      },
      "execution_count": 9,
      "outputs": []
    },
    {
      "cell_type": "code",
      "source": [
        "training_set = train_datagen.flow_from_directory('/content/drive/MyDrive/Project/AI/train', target_size=(224,224), batch_size=32, class_mode='categorical')"
      ],
      "metadata": {
        "colab": {
          "base_uri": "https://localhost:8080/"
        },
        "id": "yH5ZXKu53Ymk",
        "outputId": "2474b60f-4479-47ae-ab7a-0e7286e1701e"
      },
      "execution_count": 10,
      "outputs": [
        {
          "output_type": "stream",
          "name": "stdout",
          "text": [
            "Found 227 images belonging to 7 classes.\n"
          ]
        }
      ]
    },
    {
      "cell_type": "code",
      "source": [
        "# Tao bo du lieu test\n",
        "test_set = train_datagen.flow_from_directory('/content/drive/MyDrive/Project/AI/test', target_size=(224,224), batch_size=32, class_mode='categorical')"
      ],
      "metadata": {
        "colab": {
          "base_uri": "https://localhost:8080/"
        },
        "id": "MvtEFqGJ3aaL",
        "outputId": "6b1e7205-dfa5-4eb4-f701-107f3a95ea8b"
      },
      "execution_count": 11,
      "outputs": [
        {
          "output_type": "stream",
          "name": "stdout",
          "text": [
            "Found 0 images belonging to 0 classes.\n"
          ]
        }
      ]
    },
    {
      "cell_type": "code",
      "source": [
        "# Cac nhan co trong bo du lieu training\n",
        "training_set.class_indices"
      ],
      "metadata": {
        "colab": {
          "base_uri": "https://localhost:8080/"
        },
        "id": "8Xph6peK3eyh",
        "outputId": "67e69c1a-ce08-4344-d3d7-8fca9117cce4"
      },
      "execution_count": 12,
      "outputs": [
        {
          "output_type": "execute_result",
          "data": {
            "text/plain": [
              "{'Bọ xít hôi': 0,\n",
              " 'Bọ xít đen': 1,\n",
              " 'Nhện gié': 2,\n",
              " 'Rầy nâu': 3,\n",
              " 'Sâu cuốn lá nhỏ': 4,\n",
              " 'Sâu phao': 5,\n",
              " 'Sâu đục thân lúa 2 chấm': 6}"
            ]
          },
          "metadata": {},
          "execution_count": 12
        }
      ]
    },
    {
      "cell_type": "code",
      "source": [
        "# Cac nhan co trong bo du lieu test\n",
        "test_set.class_indices"
      ],
      "metadata": {
        "colab": {
          "base_uri": "https://localhost:8080/"
        },
        "id": "FO-YAx0e3gk8",
        "outputId": "5d87fad2-d8d2-4caf-a959-a39ea36e1169"
      },
      "execution_count": 13,
      "outputs": [
        {
          "output_type": "execute_result",
          "data": {
            "text/plain": [
              "{}"
            ]
          },
          "metadata": {},
          "execution_count": 13
        }
      ]
    },
    {
      "cell_type": "code",
      "source": [
        "x_train = np.concatenate([training_set.next()[0] for i in range(training_set.__len__())])\n",
        "y_train = np.concatenate([training_set.next()[1] for i in range(training_set.__len__())])\n",
        "print(x_train.shape)\n",
        "print(y_train.shape)"
      ],
      "metadata": {
        "colab": {
          "base_uri": "https://localhost:8080/"
        },
        "id": "NuL88Ax_34L1",
        "outputId": "91938014-3da9-467e-f1a1-6d2ec68a583e"
      },
      "execution_count": 14,
      "outputs": [
        {
          "output_type": "stream",
          "name": "stdout",
          "text": [
            "(227, 224, 224, 3)\n",
            "(227, 7)\n"
          ]
        }
      ]
    },
    {
      "cell_type": "code",
      "source": [
        "from keras.models import Sequential, Model\n",
        "from keras.layers import Dense, Dropout, Flatten, Conv2D, MaxPooling2D\n",
        "\n",
        "model = Sequential()\n",
        "model.add(Conv2D(32, kernel_size=(3,3), activation=\"relu\", input_shape=(224,224,3), padding=\"same\"))\n",
        "model.add(MaxPooling2D((2,2), padding=\"same\"))\n",
        "model.add(Conv2D(64, kernel_size=(3,3), activation=\"relu\", padding=\"same\"))\n",
        "model.add(MaxPooling2D((2,2), padding=\"same\"))\n",
        "model.add(Conv2D(128, kernel_size=(3,3), activation=\"relu\", padding=\"same\"))\n",
        "model.add(MaxPooling2D((2,2), padding=\"same\"))\n",
        "model.add(Flatten())\n",
        "model.add(Dense(128, activation=\"relu\"))\n",
        "model.add(Dense(7, activation=\"softmax\"))\n",
        "\n",
        "model.summary()"
      ],
      "metadata": {
        "id": "aYwvq5AQ37jx",
        "colab": {
          "base_uri": "https://localhost:8080/"
        },
        "outputId": "229d0c01-a8ce-45db-d9b3-e3a51f02c5e4"
      },
      "execution_count": 15,
      "outputs": [
        {
          "output_type": "stream",
          "name": "stdout",
          "text": [
            "Model: \"sequential\"\n",
            "_________________________________________________________________\n",
            " Layer (type)                Output Shape              Param #   \n",
            "=================================================================\n",
            " conv2d (Conv2D)             (None, 224, 224, 32)      896       \n",
            "                                                                 \n",
            " max_pooling2d (MaxPooling2D  (None, 112, 112, 32)     0         \n",
            " )                                                               \n",
            "                                                                 \n",
            " conv2d_1 (Conv2D)           (None, 112, 112, 64)      18496     \n",
            "                                                                 \n",
            " max_pooling2d_1 (MaxPooling  (None, 56, 56, 64)       0         \n",
            " 2D)                                                             \n",
            "                                                                 \n",
            " conv2d_2 (Conv2D)           (None, 56, 56, 128)       73856     \n",
            "                                                                 \n",
            " max_pooling2d_2 (MaxPooling  (None, 28, 28, 128)      0         \n",
            " 2D)                                                             \n",
            "                                                                 \n",
            " flatten (Flatten)           (None, 100352)            0         \n",
            "                                                                 \n",
            " dense (Dense)               (None, 128)               12845184  \n",
            "                                                                 \n",
            " dense_1 (Dense)             (None, 7)                 903       \n",
            "                                                                 \n",
            "=================================================================\n",
            "Total params: 12,939,335\n",
            "Trainable params: 12,939,335\n",
            "Non-trainable params: 0\n",
            "_________________________________________________________________\n"
          ]
        }
      ]
    },
    {
      "cell_type": "code",
      "source": [
        "model.compile(loss=\"categorical_crossentropy\", metrics=[\"accuracy\"], optimizer=\"adam\")"
      ],
      "metadata": {
        "id": "fjZS1FnJ38ID"
      },
      "execution_count": 16,
      "outputs": []
    },
    {
      "cell_type": "code",
      "source": [
        "history = model.fit(x_train, y_train, batch_size=32, epochs=200, verbose=2)"
      ],
      "metadata": {
        "id": "zmm3miX43-Vq",
        "colab": {
          "base_uri": "https://localhost:8080/"
        },
        "outputId": "394d766e-4d83-4fcd-d926-edf606094a82"
      },
      "execution_count": 17,
      "outputs": [
        {
          "output_type": "stream",
          "name": "stdout",
          "text": [
            "Epoch 1/200\n",
            "8/8 - 9s - loss: 3.9650 - accuracy: 0.1410 - 9s/epoch - 1s/step\n",
            "Epoch 2/200\n",
            "8/8 - 0s - loss: 1.9430 - accuracy: 0.1850 - 393ms/epoch - 49ms/step\n",
            "Epoch 3/200\n",
            "8/8 - 0s - loss: 1.8979 - accuracy: 0.1718 - 399ms/epoch - 50ms/step\n",
            "Epoch 4/200\n",
            "8/8 - 0s - loss: 1.8577 - accuracy: 0.2467 - 401ms/epoch - 50ms/step\n",
            "Epoch 5/200\n",
            "8/8 - 0s - loss: 1.8206 - accuracy: 0.2643 - 404ms/epoch - 51ms/step\n",
            "Epoch 6/200\n",
            "8/8 - 0s - loss: 1.7430 - accuracy: 0.2863 - 391ms/epoch - 49ms/step\n",
            "Epoch 7/200\n",
            "8/8 - 0s - loss: 1.6679 - accuracy: 0.4009 - 387ms/epoch - 48ms/step\n",
            "Epoch 8/200\n",
            "8/8 - 0s - loss: 1.4417 - accuracy: 0.4493 - 396ms/epoch - 50ms/step\n",
            "Epoch 9/200\n",
            "8/8 - 0s - loss: 1.2095 - accuracy: 0.5683 - 391ms/epoch - 49ms/step\n",
            "Epoch 10/200\n",
            "8/8 - 0s - loss: 0.9883 - accuracy: 0.6564 - 398ms/epoch - 50ms/step\n",
            "Epoch 11/200\n",
            "8/8 - 0s - loss: 0.7303 - accuracy: 0.7709 - 393ms/epoch - 49ms/step\n",
            "Epoch 12/200\n",
            "8/8 - 0s - loss: 0.4357 - accuracy: 0.8899 - 391ms/epoch - 49ms/step\n",
            "Epoch 13/200\n",
            "8/8 - 0s - loss: 0.4419 - accuracy: 0.8767 - 391ms/epoch - 49ms/step\n",
            "Epoch 14/200\n",
            "8/8 - 0s - loss: 0.3643 - accuracy: 0.9163 - 392ms/epoch - 49ms/step\n",
            "Epoch 15/200\n",
            "8/8 - 0s - loss: 0.1913 - accuracy: 0.9383 - 392ms/epoch - 49ms/step\n",
            "Epoch 16/200\n",
            "8/8 - 0s - loss: 0.1616 - accuracy: 0.9604 - 390ms/epoch - 49ms/step\n",
            "Epoch 17/200\n",
            "8/8 - 0s - loss: 0.0688 - accuracy: 0.9912 - 395ms/epoch - 49ms/step\n",
            "Epoch 18/200\n",
            "8/8 - 0s - loss: 0.0463 - accuracy: 0.9912 - 400ms/epoch - 50ms/step\n",
            "Epoch 19/200\n",
            "8/8 - 0s - loss: 0.0272 - accuracy: 0.9912 - 402ms/epoch - 50ms/step\n",
            "Epoch 20/200\n",
            "8/8 - 0s - loss: 0.0188 - accuracy: 1.0000 - 393ms/epoch - 49ms/step\n",
            "Epoch 21/200\n",
            "8/8 - 0s - loss: 0.0131 - accuracy: 0.9956 - 401ms/epoch - 50ms/step\n",
            "Epoch 22/200\n",
            "8/8 - 0s - loss: 0.1015 - accuracy: 0.9780 - 397ms/epoch - 50ms/step\n",
            "Epoch 23/200\n",
            "8/8 - 0s - loss: 0.1889 - accuracy: 0.9692 - 399ms/epoch - 50ms/step\n",
            "Epoch 24/200\n",
            "8/8 - 0s - loss: 0.0925 - accuracy: 0.9868 - 400ms/epoch - 50ms/step\n",
            "Epoch 25/200\n",
            "8/8 - 0s - loss: 0.6300 - accuracy: 0.8062 - 400ms/epoch - 50ms/step\n",
            "Epoch 26/200\n",
            "8/8 - 0s - loss: 0.5224 - accuracy: 0.8855 - 393ms/epoch - 49ms/step\n",
            "Epoch 27/200\n",
            "8/8 - 0s - loss: 0.2386 - accuracy: 0.9559 - 398ms/epoch - 50ms/step\n",
            "Epoch 28/200\n",
            "8/8 - 0s - loss: 0.1116 - accuracy: 0.9956 - 397ms/epoch - 50ms/step\n",
            "Epoch 29/200\n",
            "8/8 - 0s - loss: 0.0257 - accuracy: 0.9912 - 393ms/epoch - 49ms/step\n",
            "Epoch 30/200\n",
            "8/8 - 0s - loss: 0.0257 - accuracy: 0.9956 - 401ms/epoch - 50ms/step\n",
            "Epoch 31/200\n",
            "8/8 - 0s - loss: 0.0108 - accuracy: 1.0000 - 394ms/epoch - 49ms/step\n",
            "Epoch 32/200\n",
            "8/8 - 0s - loss: 0.0064 - accuracy: 1.0000 - 397ms/epoch - 50ms/step\n",
            "Epoch 33/200\n",
            "8/8 - 0s - loss: 0.0027 - accuracy: 1.0000 - 402ms/epoch - 50ms/step\n",
            "Epoch 34/200\n",
            "8/8 - 0s - loss: 0.0013 - accuracy: 1.0000 - 396ms/epoch - 49ms/step\n",
            "Epoch 35/200\n",
            "8/8 - 0s - loss: 7.1365e-04 - accuracy: 1.0000 - 398ms/epoch - 50ms/step\n",
            "Epoch 36/200\n",
            "8/8 - 0s - loss: 4.0995e-04 - accuracy: 1.0000 - 394ms/epoch - 49ms/step\n",
            "Epoch 37/200\n",
            "8/8 - 0s - loss: 3.1479e-04 - accuracy: 1.0000 - 399ms/epoch - 50ms/step\n",
            "Epoch 38/200\n",
            "8/8 - 0s - loss: 2.6648e-04 - accuracy: 1.0000 - 395ms/epoch - 49ms/step\n",
            "Epoch 39/200\n",
            "8/8 - 0s - loss: 2.2135e-04 - accuracy: 1.0000 - 392ms/epoch - 49ms/step\n",
            "Epoch 40/200\n",
            "8/8 - 0s - loss: 1.9101e-04 - accuracy: 1.0000 - 392ms/epoch - 49ms/step\n",
            "Epoch 41/200\n",
            "8/8 - 0s - loss: 1.6459e-04 - accuracy: 1.0000 - 404ms/epoch - 50ms/step\n",
            "Epoch 42/200\n",
            "8/8 - 0s - loss: 1.4481e-04 - accuracy: 1.0000 - 396ms/epoch - 50ms/step\n",
            "Epoch 43/200\n",
            "8/8 - 0s - loss: 1.3098e-04 - accuracy: 1.0000 - 401ms/epoch - 50ms/step\n",
            "Epoch 44/200\n",
            "8/8 - 0s - loss: 1.3032e-04 - accuracy: 1.0000 - 390ms/epoch - 49ms/step\n",
            "Epoch 45/200\n",
            "8/8 - 0s - loss: 1.1919e-04 - accuracy: 1.0000 - 392ms/epoch - 49ms/step\n",
            "Epoch 46/200\n",
            "8/8 - 0s - loss: 1.0607e-04 - accuracy: 1.0000 - 397ms/epoch - 50ms/step\n",
            "Epoch 47/200\n",
            "8/8 - 0s - loss: 9.5178e-05 - accuracy: 1.0000 - 399ms/epoch - 50ms/step\n",
            "Epoch 48/200\n",
            "8/8 - 0s - loss: 8.8360e-05 - accuracy: 1.0000 - 396ms/epoch - 50ms/step\n",
            "Epoch 49/200\n",
            "8/8 - 0s - loss: 8.2105e-05 - accuracy: 1.0000 - 394ms/epoch - 49ms/step\n",
            "Epoch 50/200\n",
            "8/8 - 0s - loss: 8.1184e-05 - accuracy: 1.0000 - 398ms/epoch - 50ms/step\n",
            "Epoch 51/200\n",
            "8/8 - 0s - loss: 7.6738e-05 - accuracy: 1.0000 - 398ms/epoch - 50ms/step\n",
            "Epoch 52/200\n",
            "8/8 - 0s - loss: 7.1900e-05 - accuracy: 1.0000 - 395ms/epoch - 49ms/step\n",
            "Epoch 53/200\n",
            "8/8 - 0s - loss: 6.8807e-05 - accuracy: 1.0000 - 399ms/epoch - 50ms/step\n",
            "Epoch 54/200\n",
            "8/8 - 0s - loss: 6.5429e-05 - accuracy: 1.0000 - 395ms/epoch - 49ms/step\n",
            "Epoch 55/200\n",
            "8/8 - 0s - loss: 6.3638e-05 - accuracy: 1.0000 - 393ms/epoch - 49ms/step\n",
            "Epoch 56/200\n",
            "8/8 - 0s - loss: 6.1244e-05 - accuracy: 1.0000 - 396ms/epoch - 49ms/step\n",
            "Epoch 57/200\n",
            "8/8 - 0s - loss: 5.8311e-05 - accuracy: 1.0000 - 394ms/epoch - 49ms/step\n",
            "Epoch 58/200\n",
            "8/8 - 0s - loss: 5.5872e-05 - accuracy: 1.0000 - 392ms/epoch - 49ms/step\n",
            "Epoch 59/200\n",
            "8/8 - 0s - loss: 5.3299e-05 - accuracy: 1.0000 - 393ms/epoch - 49ms/step\n",
            "Epoch 60/200\n",
            "8/8 - 0s - loss: 5.1475e-05 - accuracy: 1.0000 - 399ms/epoch - 50ms/step\n",
            "Epoch 61/200\n",
            "8/8 - 0s - loss: 4.9382e-05 - accuracy: 1.0000 - 397ms/epoch - 50ms/step\n",
            "Epoch 62/200\n",
            "8/8 - 0s - loss: 4.6758e-05 - accuracy: 1.0000 - 393ms/epoch - 49ms/step\n",
            "Epoch 63/200\n",
            "8/8 - 0s - loss: 4.6451e-05 - accuracy: 1.0000 - 398ms/epoch - 50ms/step\n",
            "Epoch 64/200\n",
            "8/8 - 0s - loss: 4.4974e-05 - accuracy: 1.0000 - 393ms/epoch - 49ms/step\n",
            "Epoch 65/200\n",
            "8/8 - 0s - loss: 4.3092e-05 - accuracy: 1.0000 - 393ms/epoch - 49ms/step\n",
            "Epoch 66/200\n",
            "8/8 - 0s - loss: 4.1718e-05 - accuracy: 1.0000 - 401ms/epoch - 50ms/step\n",
            "Epoch 67/200\n",
            "8/8 - 0s - loss: 3.9990e-05 - accuracy: 1.0000 - 393ms/epoch - 49ms/step\n",
            "Epoch 68/200\n",
            "8/8 - 0s - loss: 3.8779e-05 - accuracy: 1.0000 - 394ms/epoch - 49ms/step\n",
            "Epoch 69/200\n",
            "8/8 - 0s - loss: 3.7607e-05 - accuracy: 1.0000 - 396ms/epoch - 49ms/step\n",
            "Epoch 70/200\n",
            "8/8 - 0s - loss: 3.6540e-05 - accuracy: 1.0000 - 394ms/epoch - 49ms/step\n",
            "Epoch 71/200\n",
            "8/8 - 0s - loss: 3.5694e-05 - accuracy: 1.0000 - 406ms/epoch - 51ms/step\n",
            "Epoch 72/200\n",
            "8/8 - 0s - loss: 3.4689e-05 - accuracy: 1.0000 - 396ms/epoch - 50ms/step\n",
            "Epoch 73/200\n",
            "8/8 - 0s - loss: 3.4034e-05 - accuracy: 1.0000 - 398ms/epoch - 50ms/step\n",
            "Epoch 74/200\n",
            "8/8 - 0s - loss: 3.3093e-05 - accuracy: 1.0000 - 398ms/epoch - 50ms/step\n",
            "Epoch 75/200\n",
            "8/8 - 0s - loss: 3.2438e-05 - accuracy: 1.0000 - 397ms/epoch - 50ms/step\n",
            "Epoch 76/200\n",
            "8/8 - 0s - loss: 3.1475e-05 - accuracy: 1.0000 - 394ms/epoch - 49ms/step\n",
            "Epoch 77/200\n",
            "8/8 - 0s - loss: 3.0792e-05 - accuracy: 1.0000 - 394ms/epoch - 49ms/step\n",
            "Epoch 78/200\n",
            "8/8 - 0s - loss: 3.0090e-05 - accuracy: 1.0000 - 395ms/epoch - 49ms/step\n",
            "Epoch 79/200\n",
            "8/8 - 0s - loss: 2.9359e-05 - accuracy: 1.0000 - 395ms/epoch - 49ms/step\n",
            "Epoch 80/200\n",
            "8/8 - 0s - loss: 2.8651e-05 - accuracy: 1.0000 - 394ms/epoch - 49ms/step\n",
            "Epoch 81/200\n",
            "8/8 - 0s - loss: 2.8110e-05 - accuracy: 1.0000 - 393ms/epoch - 49ms/step\n",
            "Epoch 82/200\n",
            "8/8 - 0s - loss: 2.7480e-05 - accuracy: 1.0000 - 391ms/epoch - 49ms/step\n",
            "Epoch 83/200\n",
            "8/8 - 0s - loss: 2.6761e-05 - accuracy: 1.0000 - 391ms/epoch - 49ms/step\n",
            "Epoch 84/200\n",
            "8/8 - 0s - loss: 2.6161e-05 - accuracy: 1.0000 - 393ms/epoch - 49ms/step\n",
            "Epoch 85/200\n",
            "8/8 - 0s - loss: 2.5630e-05 - accuracy: 1.0000 - 397ms/epoch - 50ms/step\n",
            "Epoch 86/200\n",
            "8/8 - 0s - loss: 2.5126e-05 - accuracy: 1.0000 - 391ms/epoch - 49ms/step\n",
            "Epoch 87/200\n",
            "8/8 - 0s - loss: 2.4613e-05 - accuracy: 1.0000 - 396ms/epoch - 49ms/step\n",
            "Epoch 88/200\n",
            "8/8 - 0s - loss: 2.4206e-05 - accuracy: 1.0000 - 391ms/epoch - 49ms/step\n",
            "Epoch 89/200\n",
            "8/8 - 0s - loss: 2.3758e-05 - accuracy: 1.0000 - 398ms/epoch - 50ms/step\n",
            "Epoch 90/200\n",
            "8/8 - 0s - loss: 2.3168e-05 - accuracy: 1.0000 - 398ms/epoch - 50ms/step\n",
            "Epoch 91/200\n",
            "8/8 - 0s - loss: 2.2708e-05 - accuracy: 1.0000 - 396ms/epoch - 50ms/step\n",
            "Epoch 92/200\n",
            "8/8 - 0s - loss: 2.2322e-05 - accuracy: 1.0000 - 404ms/epoch - 51ms/step\n",
            "Epoch 93/200\n",
            "8/8 - 0s - loss: 2.1928e-05 - accuracy: 1.0000 - 395ms/epoch - 49ms/step\n",
            "Epoch 94/200\n",
            "8/8 - 0s - loss: 2.1512e-05 - accuracy: 1.0000 - 395ms/epoch - 49ms/step\n",
            "Epoch 95/200\n",
            "8/8 - 0s - loss: 2.1142e-05 - accuracy: 1.0000 - 395ms/epoch - 49ms/step\n",
            "Epoch 96/200\n",
            "8/8 - 0s - loss: 2.0840e-05 - accuracy: 1.0000 - 397ms/epoch - 50ms/step\n",
            "Epoch 97/200\n",
            "8/8 - 0s - loss: 2.0410e-05 - accuracy: 1.0000 - 392ms/epoch - 49ms/step\n",
            "Epoch 98/200\n",
            "8/8 - 0s - loss: 2.0103e-05 - accuracy: 1.0000 - 395ms/epoch - 49ms/step\n",
            "Epoch 99/200\n",
            "8/8 - 0s - loss: 1.9784e-05 - accuracy: 1.0000 - 394ms/epoch - 49ms/step\n",
            "Epoch 100/200\n",
            "8/8 - 0s - loss: 1.9456e-05 - accuracy: 1.0000 - 395ms/epoch - 49ms/step\n",
            "Epoch 101/200\n",
            "8/8 - 0s - loss: 1.9216e-05 - accuracy: 1.0000 - 402ms/epoch - 50ms/step\n",
            "Epoch 102/200\n",
            "8/8 - 0s - loss: 1.8788e-05 - accuracy: 1.0000 - 393ms/epoch - 49ms/step\n",
            "Epoch 103/200\n",
            "8/8 - 0s - loss: 1.8498e-05 - accuracy: 1.0000 - 396ms/epoch - 49ms/step\n",
            "Epoch 104/200\n",
            "8/8 - 0s - loss: 1.8157e-05 - accuracy: 1.0000 - 391ms/epoch - 49ms/step\n",
            "Epoch 105/200\n",
            "8/8 - 0s - loss: 1.7828e-05 - accuracy: 1.0000 - 400ms/epoch - 50ms/step\n",
            "Epoch 106/200\n",
            "8/8 - 0s - loss: 1.7547e-05 - accuracy: 1.0000 - 393ms/epoch - 49ms/step\n",
            "Epoch 107/200\n",
            "8/8 - 0s - loss: 1.7308e-05 - accuracy: 1.0000 - 399ms/epoch - 50ms/step\n",
            "Epoch 108/200\n",
            "8/8 - 0s - loss: 1.7073e-05 - accuracy: 1.0000 - 393ms/epoch - 49ms/step\n",
            "Epoch 109/200\n",
            "8/8 - 0s - loss: 1.6752e-05 - accuracy: 1.0000 - 392ms/epoch - 49ms/step\n",
            "Epoch 110/200\n",
            "8/8 - 0s - loss: 1.6477e-05 - accuracy: 1.0000 - 396ms/epoch - 50ms/step\n",
            "Epoch 111/200\n",
            "8/8 - 0s - loss: 1.6212e-05 - accuracy: 1.0000 - 395ms/epoch - 49ms/step\n",
            "Epoch 112/200\n",
            "8/8 - 0s - loss: 1.5876e-05 - accuracy: 1.0000 - 399ms/epoch - 50ms/step\n",
            "Epoch 113/200\n",
            "8/8 - 0s - loss: 1.5446e-05 - accuracy: 1.0000 - 398ms/epoch - 50ms/step\n",
            "Epoch 114/200\n",
            "8/8 - 0s - loss: 1.5313e-05 - accuracy: 1.0000 - 399ms/epoch - 50ms/step\n",
            "Epoch 115/200\n",
            "8/8 - 0s - loss: 1.5072e-05 - accuracy: 1.0000 - 401ms/epoch - 50ms/step\n",
            "Epoch 116/200\n",
            "8/8 - 0s - loss: 1.4812e-05 - accuracy: 1.0000 - 395ms/epoch - 49ms/step\n",
            "Epoch 117/200\n",
            "8/8 - 0s - loss: 1.4556e-05 - accuracy: 1.0000 - 394ms/epoch - 49ms/step\n",
            "Epoch 118/200\n",
            "8/8 - 0s - loss: 1.4272e-05 - accuracy: 1.0000 - 399ms/epoch - 50ms/step\n",
            "Epoch 119/200\n",
            "8/8 - 0s - loss: 1.4041e-05 - accuracy: 1.0000 - 395ms/epoch - 49ms/step\n",
            "Epoch 120/200\n",
            "8/8 - 0s - loss: 1.3818e-05 - accuracy: 1.0000 - 403ms/epoch - 50ms/step\n",
            "Epoch 121/200\n",
            "8/8 - 0s - loss: 1.3619e-05 - accuracy: 1.0000 - 393ms/epoch - 49ms/step\n",
            "Epoch 122/200\n",
            "8/8 - 0s - loss: 1.3418e-05 - accuracy: 1.0000 - 396ms/epoch - 49ms/step\n",
            "Epoch 123/200\n",
            "8/8 - 0s - loss: 1.3221e-05 - accuracy: 1.0000 - 393ms/epoch - 49ms/step\n",
            "Epoch 124/200\n",
            "8/8 - 0s - loss: 1.2999e-05 - accuracy: 1.0000 - 392ms/epoch - 49ms/step\n",
            "Epoch 125/200\n",
            "8/8 - 0s - loss: 1.2838e-05 - accuracy: 1.0000 - 397ms/epoch - 50ms/step\n",
            "Epoch 126/200\n",
            "8/8 - 0s - loss: 1.2637e-05 - accuracy: 1.0000 - 406ms/epoch - 51ms/step\n",
            "Epoch 127/200\n",
            "8/8 - 0s - loss: 1.2462e-05 - accuracy: 1.0000 - 398ms/epoch - 50ms/step\n",
            "Epoch 128/200\n",
            "8/8 - 0s - loss: 1.2326e-05 - accuracy: 1.0000 - 393ms/epoch - 49ms/step\n",
            "Epoch 129/200\n",
            "8/8 - 0s - loss: 1.2347e-05 - accuracy: 1.0000 - 397ms/epoch - 50ms/step\n",
            "Epoch 130/200\n",
            "8/8 - 0s - loss: 1.2081e-05 - accuracy: 1.0000 - 400ms/epoch - 50ms/step\n",
            "Epoch 131/200\n",
            "8/8 - 0s - loss: 1.1895e-05 - accuracy: 1.0000 - 395ms/epoch - 49ms/step\n",
            "Epoch 132/200\n",
            "8/8 - 0s - loss: 1.1691e-05 - accuracy: 1.0000 - 396ms/epoch - 49ms/step\n",
            "Epoch 133/200\n",
            "8/8 - 0s - loss: 1.1513e-05 - accuracy: 1.0000 - 394ms/epoch - 49ms/step\n",
            "Epoch 134/200\n",
            "8/8 - 0s - loss: 1.1133e-05 - accuracy: 1.0000 - 397ms/epoch - 50ms/step\n",
            "Epoch 135/200\n",
            "8/8 - 0s - loss: 1.0869e-05 - accuracy: 1.0000 - 395ms/epoch - 49ms/step\n",
            "Epoch 136/200\n",
            "8/8 - 0s - loss: 1.0773e-05 - accuracy: 1.0000 - 395ms/epoch - 49ms/step\n",
            "Epoch 137/200\n",
            "8/8 - 0s - loss: 1.0717e-05 - accuracy: 1.0000 - 398ms/epoch - 50ms/step\n",
            "Epoch 138/200\n",
            "8/8 - 0s - loss: 1.0532e-05 - accuracy: 1.0000 - 402ms/epoch - 50ms/step\n",
            "Epoch 139/200\n",
            "8/8 - 0s - loss: 1.0415e-05 - accuracy: 1.0000 - 395ms/epoch - 49ms/step\n",
            "Epoch 140/200\n",
            "8/8 - 0s - loss: 1.0310e-05 - accuracy: 1.0000 - 403ms/epoch - 50ms/step\n",
            "Epoch 141/200\n",
            "8/8 - 0s - loss: 1.0128e-05 - accuracy: 1.0000 - 394ms/epoch - 49ms/step\n",
            "Epoch 142/200\n",
            "8/8 - 0s - loss: 9.9546e-06 - accuracy: 1.0000 - 405ms/epoch - 51ms/step\n",
            "Epoch 143/200\n",
            "8/8 - 0s - loss: 9.8275e-06 - accuracy: 1.0000 - 397ms/epoch - 50ms/step\n",
            "Epoch 144/200\n",
            "8/8 - 0s - loss: 9.6858e-06 - accuracy: 1.0000 - 395ms/epoch - 49ms/step\n",
            "Epoch 145/200\n",
            "8/8 - 0s - loss: 9.5645e-06 - accuracy: 1.0000 - 399ms/epoch - 50ms/step\n",
            "Epoch 146/200\n",
            "8/8 - 0s - loss: 9.4584e-06 - accuracy: 1.0000 - 394ms/epoch - 49ms/step\n",
            "Epoch 147/200\n",
            "8/8 - 0s - loss: 9.3534e-06 - accuracy: 1.0000 - 395ms/epoch - 49ms/step\n",
            "Epoch 148/200\n",
            "8/8 - 0s - loss: 9.2489e-06 - accuracy: 1.0000 - 392ms/epoch - 49ms/step\n",
            "Epoch 149/200\n",
            "8/8 - 0s - loss: 9.1355e-06 - accuracy: 1.0000 - 395ms/epoch - 49ms/step\n",
            "Epoch 150/200\n",
            "8/8 - 0s - loss: 9.0457e-06 - accuracy: 1.0000 - 398ms/epoch - 50ms/step\n",
            "Epoch 151/200\n",
            "8/8 - 0s - loss: 8.9202e-06 - accuracy: 1.0000 - 389ms/epoch - 49ms/step\n",
            "Epoch 152/200\n",
            "8/8 - 0s - loss: 8.7800e-06 - accuracy: 1.0000 - 405ms/epoch - 51ms/step\n",
            "Epoch 153/200\n",
            "8/8 - 0s - loss: 8.7086e-06 - accuracy: 1.0000 - 396ms/epoch - 49ms/step\n",
            "Epoch 154/200\n",
            "8/8 - 0s - loss: 8.6083e-06 - accuracy: 1.0000 - 394ms/epoch - 49ms/step\n",
            "Epoch 155/200\n",
            "8/8 - 0s - loss: 8.5217e-06 - accuracy: 1.0000 - 399ms/epoch - 50ms/step\n",
            "Epoch 156/200\n",
            "8/8 - 0s - loss: 8.4461e-06 - accuracy: 1.0000 - 393ms/epoch - 49ms/step\n",
            "Epoch 157/200\n",
            "8/8 - 0s - loss: 8.3190e-06 - accuracy: 1.0000 - 396ms/epoch - 49ms/step\n",
            "Epoch 158/200\n",
            "8/8 - 0s - loss: 8.2156e-06 - accuracy: 1.0000 - 393ms/epoch - 49ms/step\n",
            "Epoch 159/200\n",
            "8/8 - 0s - loss: 8.1263e-06 - accuracy: 1.0000 - 398ms/epoch - 50ms/step\n",
            "Epoch 160/200\n",
            "8/8 - 0s - loss: 8.0391e-06 - accuracy: 1.0000 - 399ms/epoch - 50ms/step\n",
            "Epoch 161/200\n",
            "8/8 - 0s - loss: 7.9472e-06 - accuracy: 1.0000 - 396ms/epoch - 50ms/step\n",
            "Epoch 162/200\n",
            "8/8 - 0s - loss: 7.8868e-06 - accuracy: 1.0000 - 400ms/epoch - 50ms/step\n",
            "Epoch 163/200\n",
            "8/8 - 0s - loss: 7.7855e-06 - accuracy: 1.0000 - 399ms/epoch - 50ms/step\n",
            "Epoch 164/200\n",
            "8/8 - 0s - loss: 7.7115e-06 - accuracy: 1.0000 - 399ms/epoch - 50ms/step\n",
            "Epoch 165/200\n",
            "8/8 - 0s - loss: 7.6259e-06 - accuracy: 1.0000 - 399ms/epoch - 50ms/step\n",
            "Epoch 166/200\n",
            "8/8 - 0s - loss: 7.5308e-06 - accuracy: 1.0000 - 396ms/epoch - 49ms/step\n",
            "Epoch 167/200\n",
            "8/8 - 0s - loss: 7.4568e-06 - accuracy: 1.0000 - 401ms/epoch - 50ms/step\n",
            "Epoch 168/200\n",
            "8/8 - 0s - loss: 7.3633e-06 - accuracy: 1.0000 - 396ms/epoch - 49ms/step\n",
            "Epoch 169/200\n",
            "8/8 - 0s - loss: 7.2856e-06 - accuracy: 1.0000 - 395ms/epoch - 49ms/step\n",
            "Epoch 170/200\n",
            "8/8 - 0s - loss: 7.2168e-06 - accuracy: 1.0000 - 395ms/epoch - 49ms/step\n",
            "Epoch 171/200\n",
            "8/8 - 0s - loss: 7.1485e-06 - accuracy: 1.0000 - 395ms/epoch - 49ms/step\n",
            "Epoch 172/200\n",
            "8/8 - 0s - loss: 7.0824e-06 - accuracy: 1.0000 - 394ms/epoch - 49ms/step\n",
            "Epoch 173/200\n",
            "8/8 - 0s - loss: 7.0083e-06 - accuracy: 1.0000 - 402ms/epoch - 50ms/step\n",
            "Epoch 174/200\n",
            "8/8 - 0s - loss: 6.9627e-06 - accuracy: 1.0000 - 397ms/epoch - 50ms/step\n",
            "Epoch 175/200\n",
            "8/8 - 0s - loss: 6.8876e-06 - accuracy: 1.0000 - 401ms/epoch - 50ms/step\n",
            "Epoch 176/200\n",
            "8/8 - 0s - loss: 6.8130e-06 - accuracy: 1.0000 - 394ms/epoch - 49ms/step\n",
            "Epoch 177/200\n",
            "8/8 - 0s - loss: 6.7012e-06 - accuracy: 1.0000 - 398ms/epoch - 50ms/step\n",
            "Epoch 178/200\n",
            "8/8 - 0s - loss: 6.6313e-06 - accuracy: 1.0000 - 406ms/epoch - 51ms/step\n",
            "Epoch 179/200\n",
            "8/8 - 0s - loss: 6.5515e-06 - accuracy: 1.0000 - 397ms/epoch - 50ms/step\n",
            "Epoch 180/200\n",
            "8/8 - 0s - loss: 6.4817e-06 - accuracy: 1.0000 - 393ms/epoch - 49ms/step\n",
            "Epoch 181/200\n",
            "8/8 - 0s - loss: 6.3987e-06 - accuracy: 1.0000 - 399ms/epoch - 50ms/step\n",
            "Epoch 182/200\n",
            "8/8 - 0s - loss: 6.3399e-06 - accuracy: 1.0000 - 395ms/epoch - 49ms/step\n",
            "Epoch 183/200\n",
            "8/8 - 0s - loss: 6.2837e-06 - accuracy: 1.0000 - 404ms/epoch - 51ms/step\n",
            "Epoch 184/200\n",
            "8/8 - 0s - loss: 6.2149e-06 - accuracy: 1.0000 - 393ms/epoch - 49ms/step\n",
            "Epoch 185/200\n",
            "8/8 - 0s - loss: 6.1634e-06 - accuracy: 1.0000 - 402ms/epoch - 50ms/step\n",
            "Epoch 186/200\n",
            "8/8 - 0s - loss: 6.0868e-06 - accuracy: 1.0000 - 399ms/epoch - 50ms/step\n",
            "Epoch 187/200\n",
            "8/8 - 0s - loss: 6.0474e-06 - accuracy: 1.0000 - 403ms/epoch - 50ms/step\n",
            "Epoch 188/200\n",
            "8/8 - 0s - loss: 5.9870e-06 - accuracy: 1.0000 - 398ms/epoch - 50ms/step\n",
            "Epoch 189/200\n",
            "8/8 - 0s - loss: 5.9277e-06 - accuracy: 1.0000 - 401ms/epoch - 50ms/step\n",
            "Epoch 190/200\n",
            "8/8 - 0s - loss: 5.8668e-06 - accuracy: 1.0000 - 399ms/epoch - 50ms/step\n",
            "Epoch 191/200\n",
            "8/8 - 0s - loss: 5.8127e-06 - accuracy: 1.0000 - 392ms/epoch - 49ms/step\n",
            "Epoch 192/200\n",
            "8/8 - 0s - loss: 5.7528e-06 - accuracy: 1.0000 - 397ms/epoch - 50ms/step\n",
            "Epoch 193/200\n",
            "8/8 - 0s - loss: 5.7035e-06 - accuracy: 1.0000 - 399ms/epoch - 50ms/step\n",
            "Epoch 194/200\n",
            "8/8 - 0s - loss: 5.6541e-06 - accuracy: 1.0000 - 400ms/epoch - 50ms/step\n",
            "Epoch 195/200\n",
            "8/8 - 0s - loss: 5.5942e-06 - accuracy: 1.0000 - 399ms/epoch - 50ms/step\n",
            "Epoch 196/200\n",
            "8/8 - 0s - loss: 5.5428e-06 - accuracy: 1.0000 - 401ms/epoch - 50ms/step\n",
            "Epoch 197/200\n",
            "8/8 - 0s - loss: 5.5013e-06 - accuracy: 1.0000 - 400ms/epoch - 50ms/step\n",
            "Epoch 198/200\n",
            "8/8 - 0s - loss: 5.4504e-06 - accuracy: 1.0000 - 401ms/epoch - 50ms/step\n",
            "Epoch 199/200\n",
            "8/8 - 0s - loss: 5.3952e-06 - accuracy: 1.0000 - 398ms/epoch - 50ms/step\n",
            "Epoch 200/200\n",
            "8/8 - 0s - loss: 5.3579e-06 - accuracy: 1.0000 - 392ms/epoch - 49ms/step\n"
          ]
        }
      ]
    },
    {
      "cell_type": "code",
      "source": [
        "# Danh gia ve do chinh xac cua mo hinh \n",
        "Score=model.evaluate(x_train,y_train,verbose=2)\n",
        "print('Train Loss', Score[0])\n",
        "print('Train Accuracy', Score[1])"
      ],
      "metadata": {
        "colab": {
          "base_uri": "https://localhost:8080/"
        },
        "id": "A0pMn0Y-4CNd",
        "outputId": "ebd5c08d-c7f3-465b-fe62-a30b69e6b8dd"
      },
      "execution_count": 18,
      "outputs": [
        {
          "output_type": "stream",
          "name": "stdout",
          "text": [
            "8/8 - 0s - loss: 5.3170e-06 - accuracy: 1.0000 - 371ms/epoch - 46ms/step\n",
            "Train Loss 5.316972419677768e-06\n",
            "Train Accuracy 1.0\n"
          ]
        }
      ]
    },
    {
      "cell_type": "code",
      "source": [
        "# Ve do thi giua sai so (Loss) va do chinh xac (Accuracy)\n",
        "plt.plot(history.history['accuracy'])\n",
        "plt.plot(history.history['loss'])\n",
        "plt.title('Model Accuracy')\n",
        "plt.ylabel('Accuracy')\n",
        "plt.xlabel('Epochs')\n",
        "plt.legend(['Train','Validation'])\n",
        "plt.show"
      ],
      "metadata": {
        "id": "nMy5IlDi4ECA",
        "colab": {
          "base_uri": "https://localhost:8080/",
          "height": 312
        },
        "outputId": "6c9cd22f-6d28-43d2-a6b7-7aa0678089d2"
      },
      "execution_count": 19,
      "outputs": [
        {
          "output_type": "execute_result",
          "data": {
            "text/plain": [
              "<function matplotlib.pyplot.show(*args, **kw)>"
            ]
          },
          "metadata": {},
          "execution_count": 19
        },
        {
          "output_type": "display_data",
          "data": {
            "text/plain": [
              "<Figure size 432x288 with 1 Axes>"
            ],
            "image/png": "[encoded data removed]"
          },
          "metadata": {
            "needs_background": "light"
          }
        }
      ]
    },
    {
      "cell_type": "code",
      "source": [
        "# Luu lai\n",
        "model.save(\"Nhan_dien_saubenhtrencaylua.h5\")"
      ],
      "metadata": {
        "id": "va6D2X2K4F7v"
      },
      "execution_count": 20,
      "outputs": []
    },
    {
      "cell_type": "code",
      "source": [
        "# Tai mo hinh\n",
        "model_ANN=load_model('Nhan_dien_saubenhtrencaylua.h5')"
      ],
      "metadata": {
        "id": "RBhBP0Po4HYx"
      },
      "execution_count": 21,
      "outputs": []
    },
    {
      "cell_type": "code",
      "source": [
        "class_names = [\"Bo xit den\",\"Bo xit hoi\",\"Ray nau\",\"Nhen gie\",\"Sau cuon la nho\",\"Sau duc than lua 2 cham\",\"Sau phao\"]"
      ],
      "metadata": {
        "id": "5q8V3V7k4Ji0"
      },
      "execution_count": 22,
      "outputs": []
    },
    {
      "cell_type": "code",
      "source": [
        "from tensorflow.keras.utils import load_img\n",
        "from keras.utils.image_utils import img_to_array\n",
        "import numpy as np\n",
        "\n",
        "\n",
        "url = \"/content/drive/MyDrive/Project/AI/test/test21.jpg\"\n",
        "img = load_img(url, target_size=(224,224,3))\n",
        "plt.imshow(img)\n",
        "img = img_to_array(img)\n",
        "img = img.reshape(1, 224,224,3)\n",
        "img = img.astype(\"float32\")\n",
        "img = img/255\n",
        "img = img.reshape(-1, 224,224,3)\n",
        "\n",
        "prediction = model.predict(img)\n",
        "np.argmax(prediction, axis=1)\n",
        "index = -1\n",
        "max_value = -1\n",
        "\n",
        "for i in range(0, len(prediction[0])):\n",
        "  if max_value < prediction[0][i]:\n",
        "    max_value = prediction[0][i]\n",
        "    index = i\n",
        "print(prediction)\n",
        "print(\"Kết quả: \", class_names[index])\n",
        "print(\"Độ chính xác: \", max_value)"
      ],
      "metadata": {
        "colab": {
          "base_uri": "https://localhost:8080/",
          "height": 356
        },
        "id": "3YTIQQnK4PCK",
        "outputId": "7941ad2d-94f7-4fd5-e737-d2cb906ef442"
      },
      "execution_count": 24,
      "outputs": [
        {
          "output_type": "stream",
          "name": "stdout",
          "text": [
            "1/1 [==============================] - 0s 58ms/step\n",
            "[[4.6220870e-07 9.8249531e-01 1.7327309e-02 2.3951419e-05 1.2346436e-04\n",
            "  2.7340315e-05 2.1110491e-06]]\n",
            "Kết quả:  Bo xit hoi\n",
            "Độ chính xác:  0.9824953\n"
          ]
        },
        {
          "output_type": "display_data",
          "data": {
            "text/plain": [
              "<Figure size 432x288 with 1 Axes>"
            ],
            "image/png": "[encoded data removed]"
          },
          "metadata": {
            "needs_background": "light"
          }
        }
      ]
    }
  ]
}